{
 "cells": [
  {
   "cell_type": "code",
   "execution_count": 2,
   "id": "03dcf6e3",
   "metadata": {},
   "outputs": [],
   "source": [
    "from ManGA import *"
   ]
  },
  {
   "cell_type": "markdown",
   "id": "0c200d2f",
   "metadata": {},
   "source": [
    "# Maximize Manipulability : How To Use\n",
    "***\n",
    "#### 1. Call `gradientAscent()` to have a plain unconstrained Optimizer on the simplest form of the Manipulability Measure (only Singularities).\n",
    "#### 2. Add arguments according to needs:\n",
    "- **initialPose** = \"upwards\", \"downwards\". If None, it starts with a totally arbitrary joint config $q_{init}$ (within the joint limits).\n",
    "\n",
    "Extra : You can also input a specified configuration vector of 7 angles in radians within the joint limits\n",
    "\n",
    "- **constrainedDimensions** = [x,y,z,$\\alpha, \\beta, \\gamma$] . Give a 1 to the dimensions you want to block, a 0 to the ones that should be free of constraint.\n",
    "\n",
    "- **lr** = Learning Rate of Gradient Ascent. Give it any value above 0.0 .\n",
    "\n",
    "- **c** = Convergence Rate. The smaller it is, the longer the algorithm is trying to maximize.\n",
    "\n",
    "- **P** = True or False. To include the Joint Limit Penalty in the Manipulability Measure.\n",
    "\n",
    "- **k** = Parameter that influences how the joint limits are impacting overall Manipulability Measure. Give it a value above 0. Under 10.000, the search evolves very slow.\n",
    "\n",
    "\n",
    "## Values by default:\n",
    "`initialPose = None, \n",
    "constrainedDimensions = [0,0,0,0,0,0], \n",
    "lr = 6.5, \n",
    "c = 0.0001, \n",
    "P = False, \n",
    "k = 2000`"
   ]
  }
 ],
 "metadata": {
  "kernelspec": {
   "display_name": "Python 3 (ipykernel)",
   "language": "python",
   "name": "python3"
  },
  "language_info": {
   "codemirror_mode": {
    "name": "ipython",
    "version": 3
   },
   "file_extension": ".py",
   "mimetype": "text/x-python",
   "name": "python",
   "nbconvert_exporter": "python",
   "pygments_lexer": "ipython3",
   "version": "3.9.12"
  }
 },
 "nbformat": 4,
 "nbformat_minor": 5
}
